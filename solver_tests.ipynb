{
 "cells": [
  {
   "cell_type": "code",
   "execution_count": 14,
   "metadata": {},
   "outputs": [],
   "source": [
    "import smart_agents as sa"
   ]
  },
  {
   "cell_type": "code",
   "execution_count": 15,
   "metadata": {},
   "outputs": [
    {
     "name": "stdout",
     "output_type": "stream",
     "text": [
      "   5   ,   7    ,   6   \n",
      "   8   ,   3    ,   4   \n",
      "   2   ,   1    ,   0   \n",
      "\n"
     ]
    }
   ],
   "source": [
    "s = sa.ddm.problems.SlidingPuzzle(3,3)\n",
    "print(s)"
   ]
  },
  {
   "cell_type": "code",
   "execution_count": 16,
   "metadata": {},
   "outputs": [
    {
     "name": "stdout",
     "output_type": "stream",
     "text": [
      "106780\n",
      "   5   ,   7    ,   6   \n",
      "   8   ,   3    ,   4   \n",
      "   2   ,   1    ,   0   \n",
      "\n",
      "   1   ,   2    ,   3   \n",
      "   4   ,   5    ,   6   \n",
      "   7   ,   8    ,   0   \n",
      "\n"
     ]
    }
   ],
   "source": [
    "initial_state = s.get_initial_state()\n",
    "solver = sa.ddm.algorithms.ForwardSearch(s)\n",
    "plan = solver.find_plan()\n",
    "print(len(plan))\n",
    "print(s)\n",
    "s.update_current_state(sa.ddm.algorithms.apply_plan(plan,initial_state))\n",
    "print(s)\n",
    "\n",
    "\n"
   ]
  }
 ],
 "metadata": {
  "kernelspec": {
   "display_name": ".venv",
   "language": "python",
   "name": "python3"
  },
  "language_info": {
   "codemirror_mode": {
    "name": "ipython",
    "version": 3
   },
   "file_extension": ".py",
   "mimetype": "text/x-python",
   "name": "python",
   "nbconvert_exporter": "python",
   "pygments_lexer": "ipython3",
   "version": "3.10.11"
  }
 },
 "nbformat": 4,
 "nbformat_minor": 2
}
