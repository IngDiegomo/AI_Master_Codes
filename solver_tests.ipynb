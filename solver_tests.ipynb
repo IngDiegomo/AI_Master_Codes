{
 "cells": [
  {
   "cell_type": "code",
   "execution_count": 2,
   "metadata": {},
   "outputs": [],
   "source": [
    "import representation as rep\n",
    "import search_algorithms as sa"
   ]
  },
  {
   "cell_type": "code",
   "execution_count": 5,
   "metadata": {},
   "outputs": [
    {
     "name": "stdout",
     "output_type": "stream",
     "text": [
      "   3   ,   5    ,   8   \n",
      "   2   ,   1    ,   7   \n",
      "   6   ,   4    ,   0   \n",
      "\n"
     ]
    }
   ],
   "source": [
    "s = rep.SlidingPuzzle(3,3)\n",
    "print(s)\n",
    "rep.T"
   ]
  },
  {
   "cell_type": "code",
   "execution_count": 6,
   "metadata": {},
   "outputs": [
    {
     "ename": "AttributeError",
     "evalue": "'list' object has no attribute 'transitions'",
     "output_type": "error",
     "traceback": [
      "\u001b[1;31m---------------------------------------------------------------------------\u001b[0m",
      "\u001b[1;31mAttributeError\u001b[0m                            Traceback (most recent call last)",
      "\u001b[1;32mc:\\Users\\diego\\Desktop\\Maestria\\Agentes\\Codigo\\Ejercicios Personales\\Sliding Puzzle\\sliding_puzzle\\solver_tests.ipynb Cell 3\u001b[0m line \u001b[0;36m1\n\u001b[1;32m----> <a href='vscode-notebook-cell:/c%3A/Users/diego/Desktop/Maestria/Agentes/Codigo/Ejercicios%20Personales/Sliding%20Puzzle/sliding_puzzle/solver_tests.ipynb#W2sZmlsZQ%3D%3D?line=0'>1</a>\u001b[0m X \u001b[39m=\u001b[39m sa\u001b[39m.\u001b[39;49mgenerateX(s\u001b[39m.\u001b[39;49mgrid,s\u001b[39m.\u001b[39;49mgoal,rep\u001b[39m.\u001b[39;49mT)\n\u001b[0;32m      <a href='vscode-notebook-cell:/c%3A/Users/diego/Desktop/Maestria/Agentes/Codigo/Ejercicios%20Personales/Sliding%20Puzzle/sliding_puzzle/solver_tests.ipynb#W2sZmlsZQ%3D%3D?line=1'>2</a>\u001b[0m \u001b[39mprint\u001b[39m(X)\n",
      "File \u001b[1;32mc:\\Users\\diego\\Desktop\\Maestria\\Agentes\\Codigo\\Ejercicios Personales\\Sliding Puzzle\\sliding_puzzle\\search_algorithms.py:11\u001b[0m, in \u001b[0;36mgenerateX\u001b[1;34m(s_0, G, T)\u001b[0m\n\u001b[0;32m      7\u001b[0m X \u001b[39m=\u001b[39m Fr \u001b[39m=\u001b[39m newFr \u001b[39m=\u001b[39m [s_0]\n\u001b[0;32m      9\u001b[0m \u001b[39mwhile\u001b[39;00m (hp\u001b[39m.\u001b[39mlist_intersection(Fr,G)\u001b[39m==\u001b[39m[]):\n\u001b[1;32m---> 11\u001b[0m     \u001b[39mfor\u001b[39;00m state \u001b[39min\u001b[39;00m Fr:\n\u001b[0;32m     12\u001b[0m         \u001b[39mfor\u001b[39;00m next_state \u001b[39min\u001b[39;00m T(state):\n\u001b[0;32m     13\u001b[0m             newFr\u001b[39m.\u001b[39mappend(next_state)\n",
      "File \u001b[1;32mc:\\Users\\diego\\Desktop\\Maestria\\Agentes\\Codigo\\Ejercicios Personales\\Sliding Puzzle\\sliding_puzzle\\representation.py:70\u001b[0m, in \u001b[0;36mT\u001b[1;34m(state)\u001b[0m\n\u001b[0;32m     66\u001b[0m \u001b[39mdef\u001b[39;00m \u001b[39mT\u001b[39m(state : SlidingPuzzle) \u001b[39m-\u001b[39m\u001b[39m>\u001b[39m \u001b[39mlist\u001b[39m:\n\u001b[0;32m     68\u001b[0m     options \u001b[39m=\u001b[39m []\n\u001b[1;32m---> 70\u001b[0m     \u001b[39mfor\u001b[39;00m i \u001b[39min\u001b[39;00m \u001b[39mrange\u001b[39m(\u001b[39mlen\u001b[39m(state\u001b[39m.\u001b[39;49mtransitions)):\n\u001b[0;32m     72\u001b[0m         new_state \u001b[39m=\u001b[39m action(state,i)\n\u001b[0;32m     73\u001b[0m         \u001b[39mif\u001b[39;00m (new_state\u001b[39m.\u001b[39mgrid \u001b[39m!=\u001b[39m state\u001b[39m.\u001b[39mgrid):\n",
      "\u001b[1;31mAttributeError\u001b[0m: 'list' object has no attribute 'transitions'"
     ]
    }
   ],
   "source": [
    "X = sa.generateX(s.grid,s.goal,rep.T)\n",
    "print(X)\n"
   ]
  }
 ],
 "metadata": {
  "kernelspec": {
   "display_name": ".venv",
   "language": "python",
   "name": "python3"
  },
  "language_info": {
   "codemirror_mode": {
    "name": "ipython",
    "version": 3
   },
   "file_extension": ".py",
   "mimetype": "text/x-python",
   "name": "python",
   "nbconvert_exporter": "python",
   "pygments_lexer": "ipython3",
   "version": "3.10.11"
  }
 },
 "nbformat": 4,
 "nbformat_minor": 2
}
