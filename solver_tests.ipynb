{
 "cells": [
  {
   "cell_type": "code",
   "execution_count": 67,
   "metadata": {},
   "outputs": [],
   "source": [
    "import smart_agents as sa"
   ]
  },
  {
   "cell_type": "code",
   "execution_count": 68,
   "metadata": {},
   "outputs": [
    {
     "name": "stdout",
     "output_type": "stream",
     "text": [
      "[2, 1, 3, 0]\n",
      "1\n",
      "False\n"
     ]
    }
   ],
   "source": [
    "s = sa.ddm.problems.SlidingPuzzle(2,2)\n",
    "#s.initial_state = [8,2,7,6,5,1,3,4,0]\n",
    "print(s.initial_state)\n",
    "print(s.is_solvable(s.initial_state))"
   ]
  },
  {
   "cell_type": "code",
   "execution_count": 69,
   "metadata": {},
   "outputs": [
    {
     "name": "stdout",
     "output_type": "stream",
     "text": [
      "5\n",
      "   2    ,   1   \n",
      "   3    ,   0   \n",
      "\n",
      "   1    ,   2   \n",
      "   3    ,   0   \n",
      "\n"
     ]
    }
   ],
   "source": [
    "initial_state = s.get_initial_state()\n",
    "s.update_current_state(initial_state)\n",
    "solver = sa.ddm.algorithms.BreadthFirstSearch(s)\n",
    "plan = solver.find_plan()\n",
    "if type(plan) == str:\n",
    "    print(plan)\n",
    "else:\n",
    "    print(len(plan))\n",
    "    print(s)\n",
    "    s.update_current_state(sa.ddm.algorithms.apply_plan(plan,initial_state))\n",
    "    print(s)\n",
    "\n",
    "\n"
   ]
  }
 ],
 "metadata": {
  "kernelspec": {
   "display_name": ".venv",
   "language": "python",
   "name": "python3"
  },
  "language_info": {
   "codemirror_mode": {
    "name": "ipython",
    "version": 3
   },
   "file_extension": ".py",
   "mimetype": "text/x-python",
   "name": "python",
   "nbconvert_exporter": "python",
   "pygments_lexer": "ipython3",
   "version": "3.10.11"
  }
 },
 "nbformat": 4,
 "nbformat_minor": 2
}
