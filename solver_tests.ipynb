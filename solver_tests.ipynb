{
 "cells": [
  {
   "cell_type": "code",
   "execution_count": 6,
   "metadata": {},
   "outputs": [],
   "source": [
    "import smart_agents as sa"
   ]
  },
  {
   "cell_type": "code",
   "execution_count": 7,
   "metadata": {},
   "outputs": [
    {
     "name": "stdout",
     "output_type": "stream",
     "text": [
      "   2    ,   1   \n",
      "   3    ,   0   \n",
      "\n"
     ]
    }
   ],
   "source": [
    "s = sa.problems.SlidingPuzzle(2,2)\n",
    "print(s)\n"
   ]
  },
  {
   "cell_type": "code",
   "execution_count": 8,
   "metadata": {},
   "outputs": [
    {
     "name": "stdout",
     "output_type": "stream",
     "text": [
      "[[2, 0, 3, 1], [2, 1, 3, 0], [2, 1, 0, 3]]\n",
      "[[2, 0, 3, 1], [0, 2, 3, 1], [2, 0, 1, 3], [0, 1, 2, 3], [2, 1, 0, 3], [2, 1, 3, 0]]\n",
      "[[0, 2, 1, 3], [2, 1, 3, 0], [2, 0, 3, 1], [0, 2, 3, 1], [3, 1, 2, 0], [2, 3, 1, 0], [0, 1, 2, 3], [3, 2, 0, 1], [2, 1, 0, 3], [1, 2, 3, 0], [2, 0, 1, 3]]\n"
     ]
    }
   ],
   "source": [
    "solver = sa.algorithms.GenerateX(s)\n",
    "X = solver.find_solution()\n"
   ]
  }
 ],
 "metadata": {
  "kernelspec": {
   "display_name": ".venv",
   "language": "python",
   "name": "python3"
  },
  "language_info": {
   "codemirror_mode": {
    "name": "ipython",
    "version": 3
   },
   "file_extension": ".py",
   "mimetype": "text/x-python",
   "name": "python",
   "nbconvert_exporter": "python",
   "pygments_lexer": "ipython3",
   "version": "3.10.11"
  }
 },
 "nbformat": 4,
 "nbformat_minor": 2
}
