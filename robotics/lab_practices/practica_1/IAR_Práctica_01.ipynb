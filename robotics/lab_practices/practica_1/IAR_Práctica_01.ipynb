{
 "cells": [
  {
   "cell_type": "markdown",
   "id": "e2fe7b14",
   "metadata": {},
   "source": [
    "# Práctica 1: La distribución de Gauss\n",
    "\n",
    "## Informática para la Robótica\n",
    "### M.U en Lógica, Computación e Inteligencia Artificial\n",
    "### Universidad de Sevilla"
   ]
  },
  {
   "cell_type": "markdown",
   "id": "bb1675d4",
   "metadata": {},
   "source": [
    "Durante este curso utilizaremos los cuadernos Jupyter para completar las prácticas.\n",
    "Son bastante fáciles de usar y buenos para mezclar explicaciones y código interactivo.\n",
    "\n",
    "Un cuaderno Jupyter se compone de celdas que pueden ser de tres tipos:\n",
    "\n",
    "  - Celdas de código: su contenido se considera código ejecutable que puede producir un resultado que se muestra debajo de la celda.\n",
    "  - Celdas Markdown: Celdas de texto formateadas mediante el lenguaje Markdown (por ejemplo, ésta). En caso de que no lo hayas utilizado antes, puedes consultar esta [introducción](https://www.markdownguide.org/getting-started) o esta [cheatsheet](https://github.com/adam-p/markdown-here/wiki/Markdown-Cheatsheet).\n",
    "  - Celdas sin procesar: el contenido de estas celdas no es evaluado por el núcleo del cuaderno.\n",
    "  \n",
    "De este modo, los cuadernos proporcionados en este curso tienen una serie de celdas markdown que incluyen teoría, imágenes, ecuaciones, etc., así como celdas de código con partes que deben ser completadas por los alumnos. \n",
    "\n",
    "Ejemplo de celda de código. Se puede ejecutar con el botón \"Ejecutar\", con \"Celda->Ejecutar celda\" o pulsando \"Ctrl+Enter\" en la celda."
   ]
  },
  {
   "cell_type": "code",
   "execution_count": 2,
   "id": "f829a4f5",
   "metadata": {},
   "outputs": [
    {
     "name": "stdout",
     "output_type": "stream",
     "text": [
      "Number of permutations: 20\n"
     ]
    }
   ],
   "source": [
    "from scipy.special import perm\n",
    "#find permutation of 5, 2 using perm (N, k) function\n",
    "per = perm(5, 2, exact = True)\n",
    "print(\"Number of permutations: \" + str(per))"
   ]
  },
  {
   "cell_type": "markdown",
   "id": "6df1f302",
   "metadata": {},
   "source": [
    "### Notas\n",
    "\n",
    "1. Si te sientes atascado y necesitas una herramienta de **depuración** más capaz, hay una forma de convertir un notebook en un script python normal.\n",
    "\n",
    "  - Dentro del editor en File > Download as... > Python \n",
    "\n",
    "  Luego puedes depurarlo normalmente usando un editor/IDE como **Visual Studio Code**, **Spyder** o **PyCharm**.\n",
    "  \n",
    "2. En el caso de que alguna visualización tenga errores o no se muestre correctamente, existe la posibilidad de que la opción Kernel > Restart pueda arreglarlo."
   ]
  },
  {
   "cell_type": "markdown",
   "id": "d1581f2d",
   "metadata": {},
   "source": [
    "## Recursos de Python\n",
    "Los siguientes paquetes van a ser utilizados intensivamente en el curso, por lo que vale la pena introducirlos."
   ]
  },
  {
   "cell_type": "markdown",
   "id": "ec977d86",
   "metadata": {},
   "source": [
    "## Numpy y Scipy\n",
    "\n",
    "\n",
    "Para la creación de arrays y matrices, utilizaremos Numpy [(docs here)](https://docs.scipy.org/doc/numpy/reference/) y algunas funciones de Scipy [(docs here)](https://docs.scipy.org/doc/scipy/reference/).\n",
    "\n",
    "\n",
    "- **Creación de matrices**: En el código, usaremos siempre arrays numpy (clase `np.ndarray`) creados por:\n",
    "    - `np.array([...])`: Para la creación normal de arrays\n",
    "    - `np.vstack([...])` y `np.hstack([...])`: Para la concatenación vertical y horizontal respectivamente.\n",
    "    - `np.diag([...])`: Para crear una matriz diagonal.\n",
    "- **Operaciones con matrices**: Existe otra clase llamada `np.matrix` que facilita algunas operaciones: inversa, transposición,... No se usará en nuestro código ya que está marcada para deprecación. En su lugar puedes usar las siguientes funciones:\n",
    "    - `scipy.linalg.inv()`: Para el **inverso** de una matriz.\n",
    "    - Si tenemos un ndarray llamado `A` podemos usar `A.T` para la **transposición**. En el caso de que A sea un ndarray plano y queramos un vector vertical podemos utilizar `np.vstack(A)`, ya que `A.T` no nos devolverá la salida esperada.\n",
    "    - Para la **multiplicación de matrices** el operador `@` está definido en ndarrays como tal. Uso: `A@B`.\n",
    "- **Generación de valores aleatorios**: utilizaremos en la mayoría de los casos el módulo `numpy.random` . Pero también podemos usar el módulo `scipy.stats` en algunos casos. Hay pocas diferencias entre ambos."
   ]
  },
  {
   "cell_type": "markdown",
   "id": "814a58c7",
   "metadata": {},
   "source": [
    "### Matplotlib\n",
    "\n",
    "Usamos Matplotlib, más explícitamente el módulo `matplotlib.pyplot` [(docs here)](https://matplotlib.org/api/_as_gen/matplotlib.pyplot.html)\n",
    "para realizar las diferentes figuras a lo largo de las prácticas. \n",
    "En algunos casos te proporcionaremos el código, en otros tendrás que hacerlo tú mismo.\n",
    "\n",
    "Algunas de las funciones más relevantes son:\n",
    "\n",
    "- `plt.figure()` o `plt.subplots()` para crear un nuevo gráfico.\n",
    "- Plt.plot()`: Función de dibujo general. Dependiendo de los parámetros se puede utilizar para dibujar líneas o gráficos de dispersión. \n",
    "- Plt.hist()`: Creación de histogramas"
   ]
  },
  {
   "cell_type": "markdown",
   "id": "670ffff7",
   "metadata": {},
   "source": [
    "# Bases de probabilidad y estadística para la robótica\n",
    "\n",
    "El campo de la robótica ha encontrado un gran éxito utilizando un enfoque probabilístico para manejar la incertidumbre.\n",
    "A diferencia de los robots industriales, que residen en entornos controlados, los robots móviles (en los que se centra este curso) tienen que adaptarse a factores adicionales como: entornos dinámicos, ruido en los sensores o sistemas de movimiento poco fiables.\n",
    "\n",
    "El principio básico de esta **robótica probabilística** es representar esta incertidumbre como una distribución de probabilidad. En la mayoría de los casos utilizaremos las observaciones del entorno (normalmente representadas como $z_n$), para estimar el estado más probable ($x_n$) y el grado de certeza de esta predicción ($\\Sigma_{x_n}$)."
   ]
  },
  {
   "cell_type": "code",
   "execution_count": 3,
   "id": "e04c363e",
   "metadata": {},
   "outputs": [],
   "source": [
    "# IMPORTED LIBS\n",
    "\n",
    "import numpy as np\n",
    "from numpy import random\n",
    "from numpy import linalg\n",
    "import matplotlib.pyplot as plt\n",
    "from scipy import stats\n",
    "from scipy import signal\n",
    "\n",
    "from ipywidgets import interact, interactive, fixed, interact_manual\n",
    "import ipywidgets as widgets\n",
    "#from utils.PlotEllipse import PlotEllipse\n"
   ]
  },
  {
   "cell_type": "markdown",
   "id": "68ec51fb",
   "metadata": {},
   "source": [
    "## La distribución de Gauss\n",
    "\n",
    "La distribución de Gauss (también conocida como distribución Normal) se caracteriza por dos parámetros:\n",
    "\n",
    "- La **media** ($\\mu$) es el valor esperado de la distribución.\n",
    "- La **desviación estándar** ($\\sigma$) representa como de dispersados están los posibles valores.\n",
    "\n",
    "La función de distribución de probabilidad (**pdf**) de una distribución de Gauss viene definida por:\n",
    "\n",
    "$$\n",
    "    N(x | \\mu, \\sigma^2) = \n",
    "        \\frac{1}{\\sqrt{2\\pi\\sigma^2}}\n",
    "        e^{-\\frac{1}{2\\sigma^2}\\left(x - \\mu \\right)^2}\n",
    "$$\n",
    "\n",
    "**Ejercicio**\n",
    "\n",
    "Completa el siguiente código para representar la pdf de una distribución de Gauss con $\\mu = 2$ y $\\sigma = 1$.\n",
    "\n",
    "Evalúa la función en el intervalo $x \\in [-5, 5]$, generando 100 muestras entre esos valores. <i>Pista: usa la función np.linspace. La constante *np.pi* también puede ser útil.</i>"
   ]
  },
  {
   "cell_type": "code",
   "execution_count": 4,
   "id": "9d1a961b",
   "metadata": {},
   "outputs": [],
   "source": [
    "def evaluate_gaussian(mu=2, sigma=1, min_interval=-5, max_interval=5, n_samples=100):\n",
    "    \"\"\"Evaluates a gaussian distribution between in a certain interval and plots it\n",
    "    \n",
    "    Args:        \n",
    "        mu: mean of the distribution\n",
    "        sigma: standard deviation of the distribution\n",
    "        min_interval: minimum value of the interval\n",
    "        max_interval: maximum value of the interval\n",
    "        n_samples: number of samples\n",
    "    \"\"\"\n",
    "    \n",
    "    plt.figure()\n",
    "    x = np.linspace(min_interval,max_interval,n_samples)         # Create the array of values where the gaussian distribution is going to be evaluated \n",
    "    variance = sigma ** 2  # Get the variance from the given standar deviation \n",
    "    res = (1/(np.sqrt(2*np.pi*variance)))*np.exp(-((x-mu)**2)/(2*variance))        # Implement the gaussian distribution computation \n",
    "    plt.plot(x,res)  # Show the results"
   ]
  },
  {
   "cell_type": "code",
   "execution_count": 5,
   "id": "1cf64be3",
   "metadata": {},
   "outputs": [
    {
     "data": {
      "image/png": "[encoded data removed]",
      "text/plain": [
       "<Figure size 640x480 with 1 Axes>"
      ]
     },
     "metadata": {},
     "output_type": "display_data"
    }
   ],
   "source": [
    "mu = 2\n",
    "sigma = 1\n",
    "min_interval=-5\n",
    "max_interval=5\n",
    "n_samples=100\n",
    "evaluate_gaussian(mu,sigma,min_interval,max_interval,n_samples)"
   ]
  },
  {
   "cell_type": "markdown",
   "id": "a76dcab3",
   "metadata": {},
   "source": [
    "### Muestreo a partir de una distribución\n",
    "\n",
    "El muestreo a partir de una distribución aleatoria consiste en generar un conjunto de valores de acuerdo a la distribución aleatoria.\n",
    "\n",
    "Esto es de especial interés para los *filtros de partículas*.\n",
    "\n",
    "**Ejercicio**\n",
    "\n",
    "Utiliza la función `randn()` del módulo `random` de numpy. \n",
    "\n",
    "Este módulo contiene funciones para hacer muestreo de distribuciones aleatorias. Puedes encontrar documentación adicional aquí: [Enlace](https://docs.scipy.org/doc/numpy-1.15.0/reference/routines.random.html)\n",
    "\n",
    "Muestrea una distribución gaussiana con $\\mu = 2$ y $\\sigma = 2$. A continuación, representa los valores resultantes a lo largo del eje x. \n",
    "\n",
    "![Ejemplo de un posible resultado](images/fig2-1-3.png)\n"
   ]
  },
  {
   "cell_type": "code",
   "execution_count": 6,
   "id": "fcfe4ba6",
   "metadata": {},
   "outputs": [],
   "source": [
    "def gen_samples(n, mu, sigma):\n",
    "    \"\"\"Generate n samples of a gaussian distribution\n",
    "    \n",
    "    Args:\n",
    "        n: Number of samples\n",
    "        mu: mean of the distribution\n",
    "        sigma: standard deviation of the distribution\n",
    "\n",
    "    Returns:\n",
    "        array of samples\n",
    "    \"\"\"\n",
    "    \n",
    "    samples = mu*np.random.randn(n) + sigma # Generate samples\n",
    "    return samples"
   ]
  },
  {
   "cell_type": "code",
   "execution_count": 7,
   "id": "b4689ea4",
   "metadata": {},
   "outputs": [
    {
     "data": {
      "text/plain": [
       "<matplotlib.collections.PathCollection at 0x245168f0fd0>"
      ]
     },
     "execution_count": 7,
     "metadata": {},
     "output_type": "execute_result"
    },
    {
     "data": {
      "image/png": "[encoded data removed]",
      "text/plain": [
       "<Figure size 640x480 with 1 Axes>"
      ]
     },
     "metadata": {},
     "output_type": "display_data"
    }
   ],
   "source": [
    "num = 100\n",
    "mu = 2\n",
    "sigma = 2\n",
    "plt.scatter(gen_samples(num,mu,sigma), np.zeros(num))"
   ]
  },
  {
   "cell_type": "markdown",
   "id": "ab4b0418",
   "metadata": {},
   "source": [
    "Una vez completado el código anterior, podrás responder a las siguientes preguntas:\n",
    "\n",
    "- ¿En torno a qué valor se concentran las muestras? ¿Por qué?"
   ]
  },
  {
   "cell_type": "markdown",
   "id": "d2bc32d8",
   "metadata": {},
   "source": [
    "<span style=\"color:green\">Las muestras se concentran en torno al 2. Porque en una distribución gaussiana muestreada aleatoriamente el valor más con más probabilidad de aparecer es la media, el cuál es el valor central. En este caso es el 2.</span>"
   ]
  },
  {
   "cell_type": "markdown",
   "id": "4af70c4e",
   "metadata": {},
   "source": [
    "De hecho, si seguimos muestreando la distribución y construimos un histograma de las muestras obtenidas, el histograma resultante será similar a su respectiva gaussiana dado un número suficientemente grande de muestras. \n",
    "\n",
    "**Ejercicio**\n",
    "\n",
    "1. Para comprobarlo, te pedimos que crees un vector de muestras grande, es decir, de tamaño 1000.\n",
    "\n",
    "2. A continuación, complete la función `hist_slice`, que toma una matriz de muestras y un número entero `n`. Esta función dibuja los primeros valores `n` del array como un **histograma**.\n",
    "\n",
    "3. Para mostrar los resultados del ejercicio utilizaremos los widgets de Jupyter. Puedes encontrar más información sobre ellos aquí [[link]](https://ipywidgets.readthedocs.io/en/latest/index.html), pero de momento utiliza la llamada comentada a `interact`.\n",
    "\n",
    "Juega con diferentes parámetros de la función `hist()` de matplotlib. Docs aquí: [[Enlace]](https://matplotlib.org/api/_as_gen/matplotlib.pyplot.hist.html?highlight=hist#matplotlib.pyplot.hist)\n",
    "\n",
    "Las barras del histograma deben ser normalizadas por el área total. (CONSEJO: Establezca los parámetros opcionales `density` y `stacked` de `hist()` a True)\n",
    "\n",
    "![](images/fig2-1-4.png)\n"
   ]
  },
  {
   "cell_type": "code",
   "execution_count": 15,
   "metadata": {},
   "outputs": [],
   "source": [
    "def evaluate_gaussian(mu=2, sigma=1, min_interval=-5, max_interval=5, n_samples=100):\n",
    "    \"\"\"Evaluates a gaussian distribution between in a certain interval and plots it\n",
    "    \n",
    "    Args:        \n",
    "        mu: mean of the distribution\n",
    "        sigma: standard deviation of the distribution\n",
    "        min_interval: minimum value of the interval\n",
    "        max_interval: maximum value of the interval\n",
    "        n_samples: number of samples\n",
    "    \"\"\"\n",
    "    \n",
    "    plt.figure()\n",
    "    x = np.linspace(min_interval,max_interval,n_samples)         # Create the array of values where the gaussian distribution is going to be evaluated \n",
    "    variance = sigma ** 2  # Get the variance from the given standar deviation \n",
    "    res = (1/(np.sqrt(2*np.pi*variance)))*np.exp(-((x-mu)**2)/(2*variance))        # Implement the gaussian distribution computation \n",
    "    #plt.plot(x,res)  # Show the results\n",
    "    return x, res"
   ]
  },
  {
   "cell_type": "code",
   "execution_count": 105,
   "id": "034150be",
   "metadata": {},
   "outputs": [],
   "source": [
    "def hist_slice(samples, n):\n",
    "    \"\"\"Plot histogram for the first n values in samples\"\"\"\n",
    "    x, y = evaluate_gaussian(2, 2, min(samples)- 2, max(samples) + 2, 100)\n",
    "    plt.hist(samples[:n], edgecolor='black', density=True, stacked=True)    \n",
    "    plt.plot(x, y, 'r')\n",
    "    plt.xlabel(\"Samples for N = %d\" % (len(samples[:n])))"
   ]
  },
  {
   "cell_type": "code",
   "execution_count": 107,
   "id": "e468a80f",
   "metadata": {},
   "outputs": [
    {
     "data": {
      "image/png": "[encoded data removed]",
      "text/plain": [
       "<Figure size 640x480 with 1 Axes>"
      ]
     },
     "metadata": {},
     "output_type": "display_data"
    }
   ],
   "source": [
    "random.seed(0)\n",
    "samples = gen_samples(1000, 2, 2)\n",
    "n = 500\n",
    "hist_slice(samples, n)"
   ]
  },
  {
   "cell_type": "code",
   "execution_count": 104,
   "id": "7b6acdff",
   "metadata": {},
   "outputs": [
    {
     "data": {
      "application/vnd.jupyter.widget-view+json": {
       "model_id": "deecf9ad95214a069cfe86589089bf98",
       "version_major": 2,
       "version_minor": 0
      },
      "text/plain": [
       "interactive(children=(IntSlider(value=500, description='n', max=1000, min=100, step=100), Output()), _dom_clas…"
      ]
     },
     "metadata": {},
     "output_type": "display_data"
    },
    {
     "data": {
      "text/plain": [
       "<function __main__.hist_slice(samples, n)>"
      ]
     },
     "execution_count": 104,
     "metadata": {},
     "output_type": "execute_result"
    }
   ],
   "source": [
    "interact(hist_slice, samples=fixed(samples), n=(100, 1000, 100))"
   ]
  },
  {
   "cell_type": "markdown",
   "id": "da2e20e7",
   "metadata": {},
   "source": [
    "##  Propiedades de la distribución gaussiana\n",
    "\n",
    "Una vez que hemos adquirido cierta familiaridad con la distribución gaussiana, podemos repasar algunas de sus principales propiedades, que son la razón principal del amplio uso de esta distribución en robótica."
   ]
  },
  {
   "cell_type": "markdown",
   "id": "833b5d62",
   "metadata": {},
   "source": [
    "### Teorema del límite central\n",
    "\n",
    "**La suma de N variables aleatorias independientes e idénticamente distribuidas (i.i.d.), es decir, que pertenecen a la misma distribución y son independientes entre sí, se vuelve cada vez más gaussiana cuanto mayor es N.** \n",
    "\n",
    "Esta propiedad es válida independientemente de la distribución de probabilidad que se haya utilizado para crear las muestras. Es uno de los conceptos clave en probabilidad, ya que permite la generalización de muchos problemas.\n",
    "\n",
    "Puedes ver un vídeo de demostración de esto ejecutando la celda de abajo:"
   ]
  },
  {
   "cell_type": "code",
   "execution_count": 8,
   "id": "0f704798",
   "metadata": {},
   "outputs": [
    {
     "data": {
      "text/html": [
       "<center>\n",
       "<iframe width=\"560\" height=\"315\" src=\"https://www.youtube.com/embed/dlbkaurTAUg?autoplay=0&mute=1\" frameborder=\"0\" allow=\"accelerometer; autoplay; encrypted-media; gyroscope; picture-in-picture\" allowfullscreen></iframe>\n",
       "</center>\n"
      ],
      "text/plain": [
       "<IPython.core.display.HTML object>"
      ]
     },
     "metadata": {},
     "output_type": "display_data"
    }
   ],
   "source": [
    "%%HTML\n",
    "<center>\n",
    "<iframe width=\"560\" height=\"315\" src=\"https://www.youtube.com/embed/dlbkaurTAUg?autoplay=0&mute=1\" frameborder=\"0\" allow=\"accelerometer; autoplay; encrypted-media; gyroscope; picture-in-picture\" allowfullscreen></iframe>\n",
    "</center>"
   ]
  },
  {
   "cell_type": "markdown",
   "id": "c5d3b376",
   "metadata": {},
   "source": [
    "**Ejercicio**\n",
    "\n",
    "Te pedimos que crees una demostración similar al ejemplo anterior.\n",
    "\n",
    "- Complete la siguiente función `plot_sum`. Esta función devuelve un vector de longitud `v_length`, que resulta de la suma de `N` vectores generados aleatoriamente utilizando una distribución uniforme $[0, 1)$. Cada vector aleatorio debe tener la misma longitud (por ejemplo `v_length=100`).\n",
    "- Dentro de la función, traza el histograma correspondiente.\n",
    "- Por último, comprueba que la figura resultante tiene la forma de una gaussiana. "
   ]
  },
  {
   "cell_type": "code",
   "execution_count": null,
   "id": "d3325e2d",
   "metadata": {},
   "outputs": [],
   "source": [
    "def plot_sum(v_length, N):\n",
    "    \n",
    "    #create the vector for storing the sums\n",
    "    sum_samples = np.zeros(None)\n",
    "    \n",
    "    # Generate N vectors of samples and sum them within sum_samples\n",
    "    for _ in range(0, None):\n",
    "        sum_samples += random.rand(None)\n",
    "        \n",
    "    # Plot the resultant histogram\n",
    "    plt.hist(None,\n",
    "             bins=25, density=True,\n",
    "             stacked=True, edgecolor='black')  "
   ]
  },
  {
   "cell_type": "code",
   "execution_count": null,
   "id": "84c76064",
   "metadata": {},
   "outputs": [],
   "source": [
    "v_length = 1000\n",
    "N = 10\n",
    "plot_sum(v_length, N)"
   ]
  },
  {
   "cell_type": "markdown",
   "id": "7144a247",
   "metadata": {},
   "source": [
    "Ahora juega un poco con el número de vectores generados aleatoriamente"
   ]
  },
  {
   "cell_type": "code",
   "execution_count": null,
   "id": "e77f5c41",
   "metadata": {},
   "outputs": [],
   "source": [
    "interact(plot_sum, v_length=fixed(v_length), N=(0, 25, 1))"
   ]
  },
  {
   "cell_type": "markdown",
   "id": "8562247a",
   "metadata": {},
   "source": [
    "### Producto de gaussianas\n",
    "\n",
    "La suma ponderada de dos gaussianas resulta en una variable aleatoria que representa el producto de ambas. Este producto está definido como:\n",
    "\n",
    "$$\n",
    "     N\\left(\n",
    "        \\frac{\\sigma_2^2\\mu_1+\\sigma_1^2\\mu_2}\n",
    "        {\\sigma_1^2+\\sigma_2^2},\n",
    "         \\frac{\\sigma_1^2 \\sigma_ 2^2}\n",
    "         {\\sigma_1^2 + \\sigma_ 2^2}\n",
    "     \\right)\n",
    "$$\n",
    "\n",
    "**Ejercicio.**\n",
    "\n",
    "Completa la siguiente función para calcular el producto de dos distribuciones gaussianas.\n",
    "\n",
    "Dibuja el resultado y comprueba que se corresponde con la fórmula anterior jugando con diferentes distribuciones.\n",
    "\n",
    "\n",
    "![](images/fig2-2-3.png)"
   ]
  },
  {
   "cell_type": "code",
   "execution_count": null,
   "id": "11b73337",
   "metadata": {},
   "outputs": [],
   "source": [
    "def gaussians_product(mu1,mu2,sig1,sig2,x):\n",
    "    \n",
    "    var1, var2 = None, None # Get the variances from the standar deviations\n",
    "\n",
    "    X = np.arange(-12, 12, 1/x)\n",
    "    pdf1 = stats.norm(loc=None, scale=None).pdf(None)\n",
    "    pdf2 = stats.norm(loc=None, scale=None).pdf(None)\n",
    "\n",
    "    plt.plot(X, pdf1, label='N({},{})'.format(mu1, sig1))\n",
    "    plt.plot(X, pdf2, label='N({},{})'.format(mu2, sig2))\n",
    "    \n",
    "    # Get the parameters defining the gaussian distribution resulting from their product\n",
    "    mu3 = None\n",
    "    sig3 = None\n",
    "    c = stats.norm(loc=None, scale=None).pdf(X)\n",
    "\n",
    "    plt.plot(X, c, label='Avg. = N({},{})'.format(mu3, sig3))\n",
    "    plt.legend()\n"
   ]
  },
  {
   "cell_type": "code",
   "execution_count": null,
   "id": "796e3455",
   "metadata": {},
   "outputs": [],
   "source": [
    "mu1, sig1 = 1, 1\n",
    "mu2, sig2 = 4, 2\n",
    "x = 1000    \n",
    "\n",
    "gaussians_product(mu1,mu2,sig1,sig2,x)"
   ]
  },
  {
   "cell_type": "markdown",
   "id": "874260dd",
   "metadata": {},
   "source": [
    "### Transformación lineal de variables aleatorias gaussianas.\n",
    "\n",
    "**Propiedad.** Las distribuciones gaussianas son cerradas bajo transformaciones lineales, es decir, cuando aplicamos una suma o producto a variables aleatorias normales, el resultado es también una variable aleatoria normal.\n",
    "\n",
    "Esta es también una propiedad destacable, por ejemplo en el campo de la robótica podemos *operar normalmente sobre distribuciones aleatorias* siempre que sólo utilicemos funciones lineales.\n",
    "En caso contrario, si nos vemos en la necesidad de aplicar una *transformación no lineal* (por ejemplo seno, coseno, ...), la distribución de probabilidad resultante *no se corresponderá con ninguna pdf gaussiana*, causando complicaciones adicionales en el proceso.\n",
    "\n",
    "**Asignación.**\n",
    "\n",
    "- Generar un número `n_muestras` de muestras aleatorias a partir de la dist. $N(1,1)$.\n",
    "- Luego transfórmala siguiendo la expresión $y = a*x + b$ y dibuja el resultado para $a=b=2$.\n",
    "- Por último, dibuja encima el pdf de $N(4,4)$ y comprueba que ambos son iguales.\n",
    "\n",
    "![](images/fig2-2-4.png)"
   ]
  },
  {
   "cell_type": "code",
   "execution_count": null,
   "id": "48459e5c",
   "metadata": {},
   "outputs": [],
   "source": [
    "def linear_transformation(n_samples, a, b):\n",
    "    \"\"\"Apply lineal transform. Generating n_samples samples from N(1,1)\"\"\"\n",
    "    \n",
    "    # Generates n_samples from N(1,1)\n",
    "    mu = None\n",
    "    stdv = None\n",
    "    samples = stats.norm(loc=None, scale=None).rvs(None)\n",
    "    \n",
    "    samples_2 = None # Apply the linear transformation to the samples\n",
    "\n",
    "    # Plot histogram (blue bars)\n",
    "    n, bins, patches = plt.hist(samples_2, bins=90, density=True, stacked=True)\n",
    "\n",
    "    delta = 1/samples.size \n",
    "    X = np.arange(bins[0], bins[-1], delta)\n",
    "    A = stats.norm(loc=None, scale=None).pdf(None) # Evaluate N(1,1) in X\n",
    "    B = stats.norm(loc=None, scale=None).pdf(None) # Evaluate the resultant distribution in X\n",
    "    \n",
    "    # Show results\n",
    "    plt.plot(X, A, color='green', label='N({},{})'.format(mu, stdv))\n",
    "    plt.plot(X, B, color='red', label='N({},{})'.format(a*mu+a, stdv*a))\n",
    "    plt.legend()"
   ]
  },
  {
   "cell_type": "code",
   "execution_count": null,
   "id": "943dac49",
   "metadata": {},
   "outputs": [],
   "source": [
    "n_samples = 3000\n",
    "a = 2\n",
    "b = 2\n",
    "linear_transformation(n_samples, a, b)"
   ]
  },
  {
   "cell_type": "markdown",
   "id": "e6c744e1",
   "metadata": {},
   "source": [
    "Ahora juega un poco con diferentes valores de $a$ y $b$"
   ]
  },
  {
   "cell_type": "code",
   "execution_count": null,
   "id": "11648d80",
   "metadata": {},
   "outputs": [],
   "source": [
    "interact(linear_transformation, n_samples=fixed(n_samples), b=(-5, 5, 1), a=(1, 10, 1))"
   ]
  },
  {
   "cell_type": "markdown",
   "id": "168aa914",
   "metadata": {},
   "source": [
    "## Distribución normal bidimensional\n",
    "\n",
    "Las aplicaciones más útiles de las distribuciones gaussianas no se limitan a distribuciones o variables individuales, sino a un conjunto de distribuciones aleatorias que pueden depender unas de otras. Algunos ejemplos de estas *distribuciones multidimensionales* que utilizaremos en los siguientes ejercicios son: la posición y orientación de un robot $(x, y, \\theta)$ (a.k.a. pose), una observación de una serie de sensores de alcance $([z_0, z_1, \\dots, z_n])$, entre otros. \n",
    "\n",
    "Algunas características clave:\n",
    "\n",
    "- La *media* $(\\mu)$ ahora contiene un vector de $n$ valores $([\\mu_1, \\mu_2, \\dots, \\mu_n]')$. Su dimensionalidad/forma es $(n \\times 1)$, es decir, es un vector vertical.\n",
    "- La *covarianza* (ahora denominada $\\Sigma$) es una matriz completa de forma $(n \\times n)$. El caso es que ahora necesitamos expresar las relaciones (es decir, la dependencia) de cada variable con el resto."
   ]
  },
  {
   "cell_type": "markdown",
   "id": "bdcf2d31",
   "metadata": {},
   "source": [
    "### Suma de variables aleatorias bidimensionales\n",
    "\n",
    "En este ejercicio, veremos cómo se comportan las gaussianas cuando sumamos 2 variables aleatorias multidimensionales.\n",
    "\n",
    "Dada la suma de 2 gaussianas multidimensionales $(X_1, X_2)$, la variable aleatoria resultante $(X_3)$ también sigue una distribución gaussiana definida como:\n",
    "\n",
    "$$\n",
    "    \\left.\n",
    "    \\begin{aligned}\n",
    "    X_1 &\\sim N(\\mu_1, \\Sigma_1) \\\\\n",
    "    X_2 &\\sim N(\\mu_2, \\Sigma_2) \\\\\n",
    "    X_3 &= X_1 + X_2\n",
    "    \\end{aligned}\n",
    "    \\enspace\\right\\}\\enspace \n",
    "    X_3 \\sim N(\\mu_1 + \\mu_2, \\Sigma_1 + \\Sigma_2)\n",
    "$$\n",
    "\n",
    "\n",
    "**Ejercicio**\n",
    "\n",
    "1. Generar y extraer `n_muestras` aleatorias de 2 distribuciones bidimensionales diferentes. $N_1=N(\\mu_1,\\Sigma_1)$ y $N_2=N(\\mu_2,\\Sigma_2)$. La *media* $(\\mu_n)$ es un vector de dimensión $(2 \\times 1)$ y la *covarianza* $(\\sigma_n)$ una matriz $(2 \\times 2)$. Representan la media y la covarianza de cada distribución respectivamente. Utiliza la función `multivariate_normal` del módulo **scipy.stats**.\n",
    "2. Dibuja las dos elipses asociadas a cada distribución. Utiliza `PlotEllipse()` de la librería utils.\n",
    "3. Suma ambas muestras y dibuja la elipse $x_3 \\sim N(\\mu_1+\\mu_2, \\Sigma_1+\\Sigma_2)$.\n",
    "\n",
    "ADVERTENCIA: Al pasar la media a la función `PlotEllipse()`, ésta toma un vector $(2 \\times 1)$, mientras que `multivariate_normal()` toma una matriz plana $(1 \\times 2).$\n",
    "\n",
    "**Ejemplo**\n",
    "\n",
    "```python\n",
    "    n_samples = 500\n",
    "    \n",
    "    mean1 = np.vstack([1, 0])\n",
    "    sigma1 = np.array([[3, 2], [2, 3]])\n",
    "    mean2 = np.vstack([2, 3])\n",
    "    sigma2 = np.array([[2, 0], [0, 1]]) \n",
    "```\n",
    "\n",
    "<figure style=\"text-align:center\">\n",
    "  <img src=\"images/fig2-3-1.png\" alt=\"\">\n",
    "  <figcaption>Fig. 1: Distribution of the sum of two RVs (in blue and red)</figcaption>\n",
    "</figure>\n"
   ]
  },
  {
   "cell_type": "code",
   "execution_count": null,
   "id": "7ec1cf54",
   "metadata": {},
   "outputs": [],
   "source": [
    "def sum_of_rvs(mean1,sigma1,mean2,sigma2,n_samples):\n",
    "    \n",
    "    fig, ax = plt.subplots()\n",
    "\n",
    "    # Build the normal distributions\n",
    "    pdf1 = stats.multivariate_normal(mean=None, cov=None) # Hint: you have to use .flatten()\n",
    "    pdf2 = stats.multivariate_normal(None, None)\n",
    "\n",
    "    # Generate n_samples from them\n",
    "    rvs1 = None\n",
    "    rvs2 = None\n",
    "\n",
    "    # Draw samples as crosses\n",
    "    plt.scatter(None, None, marker='+', label=\"N1\")\n",
    "    plt.scatter(None, None, marker='+', color='red', label=\"N2\")\n",
    "\n",
    "    # Draw ellipses\n",
    "    mult = 2\n",
    "    PlotEllipse(fig, ax, mean1, sigma1, mult, color='blue')\n",
    "    PlotEllipse(fig, ax, mean2, sigma2, mult, color='red')\n",
    "\n",
    "    # Compute and draw N1 + N2\n",
    "    rvs3 = None\n",
    "    plt.scatter(rvs3[:,0],rvs3[:,1], marker='+',color='magenta', label=\"N1+N2\")\n",
    "    PlotEllipse(fig, ax, None, None, mult, color='magenta')\n",
    "    plt.legend()"
   ]
  },
  {
   "cell_type": "code",
   "execution_count": null,
   "id": "1ef3cf8b",
   "metadata": {},
   "outputs": [],
   "source": [
    "n_samples = 500\n",
    "mean1 = np.vstack([1, 0])\n",
    "sigma1 = np.array([[3, 2], [2, 3]])\n",
    "mean2 = np.vstack([2, 3])\n",
    "sigma2 = np.array([[2, 0], [0, 1]])\n",
    "\n",
    "sum_of_rvs(mean1,sigma1,mean2,sigma2,n_samples)"
   ]
  },
  {
   "cell_type": "markdown",
   "id": "ac787157",
   "metadata": {},
   "source": [
    "### Producto de pdfs gaussianas\n",
    "\n",
    "El producto de dos distribuciones gaussianas (*pdfs*) es también una distribución gaussiana.\n",
    "Esta distribución corresponde a la media ponderada de las muestras de esas mismas *pdfs*.\n",
    "\n",
    "Dadas dos distribuciones gaussianas $N_1 \\sim N(\\mu_1, \\Sigma_1)$ y $N_2 \\sim N(\\mu_2, \\Sigma_2)$, la gaussiana resultante $N_3$ se define como:\n",
    "\n",
    "$$\n",
    "\\begin{equation}\n",
    "    \\bar{X} =\n",
    "        \\left(\n",
    "            \\Sigma_1^{-1} + \\Sigma_2^{-1}\n",
    "        \\right)^{-1}\n",
    "        \\left(\n",
    "            \\Sigma_2^{-1} X_1 + \\Sigma_1^{-1} X_2\n",
    "        \\right)\\\\\n",
    "     N_3 =\n",
    "         \\left(\n",
    "             \\bar{X},\n",
    "             (\\Sigma_1^{-1} +\\Sigma_2^{-1} )\n",
    "         \\right)\n",
    "\\end{equation}\n",
    "$$\n",
    "\n",
    "**Ejercicio**\n",
    "\n",
    "Dadas las dos muestras del ejercicio anterior, dibuja la elipse (gaussiana correspondiente) que representa su media ponderada.\n",
    "\n",
    "**Ejemplo**\n",
    "\n",
    "<figure style=\"text-align:center\">\n",
    "  <img src=\"images/fig2-3-2.png\" alt=\"Trulli\">\n",
    "  <figcaption>Fig. 2: Product of two pdfs (in blue and green)</figcaption>\n",
    "</figure> \n"
   ]
  },
  {
   "cell_type": "code",
   "execution_count": null,
   "id": "a72f935b",
   "metadata": {},
   "outputs": [],
   "source": [
    "def bidimensional_gaussians_product(mean1,sigma1,mean2,sigma2,n_samples):\n",
    "\n",
    "    fig, ax = plt.subplots()\n",
    "    \n",
    "    # Build the normal distributions\n",
    "    pdf1 = stats.multivariate_normal(None, None)\n",
    "    pdf2 = stats.multivariate_normal(None, None)\n",
    "\n",
    "    # Generate n_samples \n",
    "    rvs1 = None\n",
    "    rvs2 = None\n",
    "    \n",
    "    # Draw the samples\n",
    "    plt.scatter(None, None, marker='+', color='green')\n",
    "    plt.scatter(None, None, marker='+', color='blue')\n",
    "   \n",
    "    # Calculate average of distributions\n",
    "    invs1 = None # Hint use linalg.inv\n",
    "    invs2 = None\n",
    "\n",
    "    sigma3 = None\n",
    "    mean3 = None # Hint: use the @ operator\n",
    "\n",
    "    # Plot the ellipses\n",
    "    mult = 2\n",
    "    PlotEllipse(fig, ax, None, None, mult, color='green')\n",
    "    PlotEllipse(fig, ax, None, None, mult, color='blue')\n",
    "    PlotEllipse(fig, ax, None, None, mult*1.5, color='magenta') "
   ]
  },
  {
   "cell_type": "code",
   "execution_count": null,
   "id": "cf4d3e80",
   "metadata": {},
   "outputs": [],
   "source": [
    "n_samples = 500\n",
    "mean1 = np.vstack([1, 0])\n",
    "sigma1 = np.array([[3, 2], [2, 3]])\n",
    "mean2 = np.vstack([2, 3])\n",
    "sigma2 = np.array([[2, 0], [0, 1]])\n",
    "\n",
    "bidimensional_gaussians_product(mean1,sigma1,mean2,sigma2,n_samples)"
   ]
  },
  {
   "cell_type": "markdown",
   "id": "3fbd2ac5",
   "metadata": {},
   "source": [
    "### Transformación lineal de variables aleatorias normales\n",
    "\n",
    "Como mencionamos antes, cuando transformamos linealmente una variable aleatoria gaussiana, \n",
    "el resultado sigue siendo una gaussiana. Esta es una propiedad muy deseable de tener, \n",
    "ya que nos permite operar normalmente, siempre y cuando las funciones sean lineales.\n",
    "\n",
    "**Asignación**\n",
    "\n",
    "Utilizando las muestras anteriores $x_1$, \n",
    "comprueba que la transformación $x_5 = A*x_1 +b$ da como resultado una dist normal. \n",
    "$N(A \\mu_1+b, A \\Sigma_1 A^T)$. Dadas las matrices `A` y `b` en el siguiente código.\n",
    "\n",
    "**Ejemplo**\n",
    "\n",
    "Ejemplo del resultado a escala=2.5 y los valores dados a continuación:\n",
    "\n",
    "<figure style=\"text-align:center\">\n",
    "  <img src=\"images/fig2-3-3.png\" alt=\"\">\n",
    "  <figcaption>Fig. 3: Transformación lineal de los VR. Muestras originales (en azul) y resultados (en magenta)</figcaption>.\n",
    "</figura>"
   ]
  },
  {
   "cell_type": "code",
   "execution_count": null,
   "id": "3d647e3a",
   "metadata": {},
   "outputs": [],
   "source": [
    "def linear_transform_demo(mean1,sigma1,mean2,sigma2,n_samples):\n",
    "    \n",
    "    fig, ax = plt.subplots()\n",
    "    \n",
    "    # Define the linear transformation\n",
    "    A = np.array([[-1, 2], [2, 1.5]])\n",
    "    b = np.vstack([3, 0])\n",
    "\n",
    "    # Build distribution\n",
    "    pdf1 = stats.multivariate_normal(None, None)\n",
    "\n",
    "    # Draw samples from it\n",
    "    rvs1 = pdf1.rvs(None).T\n",
    "\n",
    "    # Show the samples\n",
    "    ax.set_xlim((-16, 20))\n",
    "    ax.set_ylim((-11, 16))\n",
    "    ax.scatter(None, None, marker='+', label=\"x1\")\n",
    "\n",
    "    # Apply linear transformation transformacion lineal\n",
    "    x5 = A@rvs1+b # Hint: use the @ operator\n",
    "\n",
    "    # Show the new samples and its ellipse\n",
    "    ax.scatter(None, None, marker='.', color='magenta', label='A*x1+b')\n",
    "    PlotEllipse(fig, ax, None, None, 2.5, color='magenta')\n",
    "    ax.legend()"
   ]
  },
  {
   "cell_type": "code",
   "execution_count": null,
   "id": "c0dbcb6e",
   "metadata": {},
   "outputs": [],
   "source": [
    "n_samples = 500\n",
    "mean1 = np.vstack([1, 0])\n",
    "sigma1 = np.array([[3, 2], [2, 3]])\n",
    "mean2 = np.vstack([2, 3])\n",
    "sigma2 = np.array([[2, 0], [0, 1]])\n",
    "    \n",
    "bidimensional_linear_transform(mean1,sigma1,mean2,sigma2,n_samples)"
   ]
  },
  {
   "cell_type": "markdown",
   "id": "c54c884a",
   "metadata": {},
   "source": [
    "## Conclusiones\n",
    "En la celda de abajo, comenta lo que se ha hecho en el cuaderno, \n",
    "lo que te ha parecido interesante o cualquier otra reflexión relevante."
   ]
  },
  {
   "cell_type": "markdown",
   "id": "bc48b35c",
   "metadata": {},
   "source": [
    "<span style=\"color:green\">***Escribe tu respuesta aquí***</span>"
   ]
  }
 ],
 "metadata": {
  "kernelspec": {
   "display_name": "Python 3 (ipykernel)",
   "language": "python",
   "name": "python3"
  },
  "language_info": {
   "codemirror_mode": {
    "name": "ipython",
    "version": 3
   },
   "file_extension": ".py",
   "mimetype": "text/x-python",
   "name": "python",
   "nbconvert_exporter": "python",
   "pygments_lexer": "ipython3",
   "version": "3.10.11"
  }
 },
 "nbformat": 4,
 "nbformat_minor": 5
}
